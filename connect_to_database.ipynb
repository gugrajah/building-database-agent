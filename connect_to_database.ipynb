{
 "cells": [
  {
   "cell_type": "markdown",
   "id": "fa6f50c8",
   "metadata": {},
   "source": [
    "## Connecting to a SQL Database\n",
    "\n",
    "#### Setup"
   ]
  },
  {
   "cell_type": "code",
   "execution_count": null,
   "id": "1334f562",
   "metadata": {},
   "outputs": [],
   "source": [
    "import os \n",
    "from IPython.display import display, Markdown, HTML\n",
    "from langchain.chat_models import AzureChatOpenAI\n",
    "from langchain.agents import create_sql_agent\n",
    "from langchain.agents.agent_toolkits import SQLDatabaseToolkit\n",
    "from langchain.sql_database import SQLDatabase\n",
    "from langchain_openai import AzureChatOpenAI"
   ]
  },
  {
   "cell_type": "markdown",
   "id": "af7e011e",
   "metadata": {},
   "source": [
    "#### Recover the covid CSV file"
   ]
  },
  {
   "cell_type": "code",
   "execution_count": null,
   "id": "e3b10b2c",
   "metadata": {},
   "outputs": [],
   "source": [
    "from sqlalchemy import create_engine\n",
    "import pandas as pd\n",
    "\n",
    "df = pd.read_csv(\"./data/all-states-data.csv\")"
   ]
  },
  {
   "cell_type": "markdown",
   "id": "7d171d81",
   "metadata": {},
   "source": [
    "#### Move the data to the SQL database"
   ]
  },
  {
   "cell_type": "markdown",
   "id": "0be9f042",
   "metadata": {},
   "source": []
  }
 ],
 "metadata": {
  "language_info": {
   "name": "python"
  }
 },
 "nbformat": 4,
 "nbformat_minor": 5
}
