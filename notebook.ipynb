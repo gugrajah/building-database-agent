{
 "cells": [
  {
   "cell_type": "markdown",
   "id": "a059dc11",
   "metadata": {},
   "source": [
    "### Setup\n"
   ]
  },
  {
   "cell_type": "code",
   "execution_count": null,
   "id": "4d7ce6ad",
   "metadata": {},
   "outputs": [],
   "source": [
    "import os\n",
    "import pandas as pd\n",
    "from Ipython.display import Markdown, HTML, display"
   ]
  },
  {
   "cell_type": "markdown",
   "id": "923aa759",
   "metadata": {},
   "source": [
    "### Connect to the Azure OpenAI endpoint\n",
    "```\n",
    "openai_api_version=\"2024-06-01\"\n",
    "azure_deployment=\"your-deployment-name\"\n",
    "azure_endpoint=\"https://your-resource-name.openai.azure.com/\"\n",
    "```\n",
    "\n",
    "#### 1. Leveraging Langchain"
   ]
  },
  {
   "cell_type": "code",
   "execution_count": null,
   "id": "c9430eb0",
   "metadata": {},
   "outputs": [],
   "source": [
    "# Set up a connection to Azure's OpenAI service using LangChain\n",
    "from langchain.schema import HumanMessage \n",
    "from langchain.openai import AzureChatOpenAI\n",
    "\n",
    "model = AzureChatOpenAI(\n",
    "    openai_api_version='2024-06-01',  \n",
    "    azure_endpoint=\"https://your-resource-name.openai.azure.com/\",\n",
    "    azure_deployment=\"your-deployment-name\",\n",
    "    api_version=\"2024-05-13\"  \n",
    ")"
   ]
  },
  {
   "cell_type": "markdown",
   "id": "c9dc6706",
   "metadata": {},
   "source": [
    "#### Preparing prompts"
   ]
  },
  {
   "cell_type": "code",
   "execution_count": null,
   "id": "f01e10a7",
   "metadata": {},
   "outputs": [],
   "source": [
    "message = HumanMessage(\n",
    "    content=\"Your message here.\"\n",
    ")"
   ]
  },
  {
   "cell_type": "markdown",
   "id": "54b29bae",
   "metadata": {},
   "source": [
    "#### Engaging the model to receive a response"
   ]
  },
  {
   "cell_type": "code",
   "execution_count": null,
   "id": "db3e8181",
   "metadata": {},
   "outputs": [],
   "source": [
    "model.invoke([message])"
   ]
  }
 ],
 "metadata": {
  "kernelspec": {
   "display_name": "agents_creation",
   "language": "python",
   "name": "python3"
  },
  "language_info": {
   "codemirror_mode": {
    "name": "ipython",
    "version": 3
   },
   "file_extension": ".py",
   "mimetype": "text/x-python",
   "name": "python",
   "nbconvert_exporter": "python",
   "pygments_lexer": "ipython3",
   "version": "3.13.5"
  }
 },
 "nbformat": 4,
 "nbformat_minor": 5
}
