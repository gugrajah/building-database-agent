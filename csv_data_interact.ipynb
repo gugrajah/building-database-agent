{
 "cells": [
  {
   "cell_type": "markdown",
   "id": "9510a0ae",
   "metadata": {},
   "source": [
    "## Interacting with CSV Data"
   ]
  },
  {
   "cell_type": "markdown",
   "id": "affb78a0",
   "metadata": {},
   "source": [
    "#### Setup"
   ]
  },
  {
   "cell_type": "code",
   "execution_count": null,
   "id": "fab84388",
   "metadata": {},
   "outputs": [],
   "source": [
    "import os \n",
    "import pandas as pd\n",
    "\n",
    "from IPython.display import Markdown, HTML, display\n",
    "from langchain.schema import HumanMessage\n",
    "from langchain_openai import AzureChatOpenAI\n",
    "\n",
    "model = AzureChatOpenAI(\n",
    "    openai_api_version=\"2023-05-15\",\n",
    "    azure_deployment=\"gpt-4-1106\",\n",
    "    azure_endpoint=os.getenv(\"AZURE_OPENAI_ENDPOINT\")\n",
    ")"
   ]
  },
  {
   "cell_type": "markdown",
   "id": "64b03299",
   "metadata": {},
   "source": [
    "#### Load the dataset"
   ]
  },
  {
   "cell_type": "code",
   "execution_count": null,
   "id": "68c57504",
   "metadata": {},
   "outputs": [],
   "source": [
    "# Load the dataset\n",
    "df = pd.read_csv(r\"./data/all_data.csv\").fillna(value=0)"
   ]
  },
  {
   "cell_type": "markdown",
   "id": "997e4111",
   "metadata": {},
   "source": [
    "#### Prepare the Langchain dataframe agent"
   ]
  },
  {
   "cell_type": "code",
   "execution_count": null,
   "id": "117c5af3",
   "metadata": {},
   "outputs": [],
   "source": [
    "from langchain.agents.agent_types import AgentType\n",
    "from langchain_experimental.agents.agent_toolkits import create_pandas_dataframe_agent\n",
    "\n",
    "agent = create_pandas_dataframe_agent(llm=model, df=df, verbose=True)"
   ]
  },
  {
   "cell_type": "code",
   "execution_count": null,
   "id": "ec86ea69",
   "metadata": {},
   "outputs": [],
   "source": [
    "agent.invoke(\"how many rows are there?\")"
   ]
  },
  {
   "cell_type": "markdown",
   "id": "3a9cac91",
   "metadata": {},
   "source": [
    "#### Design the prompt and ask questions"
   ]
  },
  {
   "cell_type": "code",
   "execution_count": null,
   "id": "3dca44aa",
   "metadata": {},
   "outputs": [],
   "source": [
    "CSV_PROMPT_PREFIX = \"\"\"\n",
    "first set the pandas display options to show all columns,\n",
    "get the column names, then answer the question.\n",
    "\"\"\"\n",
    "\n",
    "CSV_PROMPT_SUFFIX = \"\"\"\n",
    "- **ALWAYS** before giving the final answer, try another method.\n",
    "Then reflect on the answers of the two methods and ask yourself whether it \n",
    "answers the original question correctly.\n",
    "If you are not sure, try another method.\n",
    "- If the methods tried do not give the same result, reflect and try again\n",
    "until you have two methods that give the same result.\n",
    "- If you still cannot arrive at a confident answer, state that you are unsure\n",
    "and explain why.\n",
    "- If you are sure of the correct answer, create a beautiful and thorough response\n",
    "using Markdown.\n",
    "- **DO NOT MAKE UP AN ANSWER OR USE PRIOR KNOWLEDGE, ONLY USE THE RESULTS OF\n",
    "THE METHODS TRIED TO ARRIVE AT THE FINAL ANSWER.**\n",
    "- **ALWAYS**, as part of your \"Final Answer\", explain how you got to the answer\n",
    "on a section that starts with: \"\\n\\nExplanation:\\n\".\n",
    "In the explanation, mention the column anmes that you used to get to the final answer.\n",
    "\"\"\""
   ]
  },
  {
   "cell_type": "code",
   "execution_count": null,
   "id": "52c5cbc3",
   "metadata": {},
   "outputs": [],
   "source": [
    "QUESTION = \"How many patients were hospitalised during July 2020 \" \n",
    "\"in Texas, and nationwide as the total of all states?\"\n",
    "\"Use the hospitalizedIncrease column to determine this.\"\n",
    "\n",
    "agent.invoke(CSV_PROMPT_PREFIX + QUESTION + CSV_PROMPT_SUFFIX)"
   ]
  }
 ],
 "metadata": {
  "kernelspec": {
   "display_name": "agents_creation",
   "language": "python",
   "name": "python3"
  },
  "language_info": {
   "codemirror_mode": {
    "name": "ipython",
    "version": 3
   },
   "file_extension": ".py",
   "mimetype": "text/x-python",
   "name": "python",
   "nbconvert_exporter": "python",
   "pygments_lexer": "ipython3",
   "version": "3.13.5"
  }
 },
 "nbformat": 4,
 "nbformat_minor": 5
}
